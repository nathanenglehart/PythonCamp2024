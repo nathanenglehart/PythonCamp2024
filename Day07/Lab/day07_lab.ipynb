{
 "cells": [
  {
   "cell_type": "markdown",
   "id": "b2e460a6-7112-41f2-9cf5-57bc990b9380",
   "metadata": {},
   "source": [
    "# Lab: NumPy and Pandas"
   ]
  },
  {
   "cell_type": "markdown",
   "id": "3d406095-01c1-412d-8319-a4b5e28218e7",
   "metadata": {},
   "source": [
    "### 1. Pandas"
   ]
  },
  {
   "cell_type": "markdown",
   "id": "fbf43a23-fc8f-4681-aeee-44fa824ac78e",
   "metadata": {},
   "source": [
    "* Read in file `life_expectancy_data.csv`"
   ]
  },
  {
   "cell_type": "code",
   "execution_count": 2,
   "id": "a144a019-2b52-4619-8957-3c38e276b4ec",
   "metadata": {},
   "outputs": [],
   "source": [
    "import pandas as pd\n",
    "import numpy as np\n",
    "\n",
    "df = pd.read_csv(\"./life_expectancy_data.csv\")"
   ]
  },
  {
   "cell_type": "markdown",
   "id": "b395eee1-08e3-4f50-938a-0f7ac6a86614",
   "metadata": {},
   "source": [
    "* Rename columns "
   ]
  },
  {
   "cell_type": "markdown",
   "id": "0bb539b5-ec45-4926-ad74-2496be7fe925",
   "metadata": {},
   "source": [
    "1. Make them all lower case, remove all hyphens, whitespace, and slashes.\n",
    "2. Make \"Income composition of resources\" --> \"composition\", and \"BMI\" --> \"avg_bmi\".\n",
    "3. Change the name of \"under-five deaths\" to something else of your choosing."
   ]
  },
  {
   "cell_type": "code",
   "execution_count": 3,
   "id": "f79836d4-52ae-4982-a3ca-f6834b1a7c42",
   "metadata": {},
   "outputs": [
    {
     "data": {
      "text/plain": [
       "Index(['country', 'year', 'status', 'lifeexpectancy', 'adultmortality',\n",
       "       'infantdeaths', 'alcohol', 'percentageexpenditure', 'hepatitisb',\n",
       "       'measles', 'avg_bmi', 'under_five_deaths', 'polio', 'totalexpenditure',\n",
       "       'diphtheria', 'hivaids', 'gdp', 'population', 'thinness119years',\n",
       "       'thinness59years', 'composition', 'schooling'],\n",
       "      dtype='object')"
      ]
     },
     "execution_count": 3,
     "metadata": {},
     "output_type": "execute_result"
    }
   ],
   "source": [
    "df.columns = df.columns.str.lower().str.replace(r'[\\s\\-\\_\\/]','', regex = True)\n",
    "df = df.rename(columns={'incomecompositionofresources' : 'composition', \n",
    "                        'bmi' : 'avg_bmi',\n",
    "                        'underfivedeaths' : 'under_five_deaths'})\n",
    "df.columns"
   ]
  },
  {
   "cell_type": "markdown",
   "id": "c0caeb20-523c-48eb-b1ab-29763dd88be0",
   "metadata": {},
   "source": [
    "* Feature engineering"
   ]
  },
  {
   "cell_type": "markdown",
   "id": "e9e05f2c-a7cf-41c9-bab6-0c49cb98a33b",
   "metadata": {},
   "source": [
    "1. Combine the two \"thinness\" variables somehow\n",
    "2. Transform the GDP and Population variables somehow\n",
    "3. Make country and status variables into dummies. Give them a prefix of 'dum' to keep track of them\n",
    "4. Combine GDP and one of the expenditure variables into a new variable"
   ]
  },
  {
   "cell_type": "code",
   "execution_count": 4,
   "id": "6de4d2f8-adce-4b75-b324-0d695e143ac4",
   "metadata": {},
   "outputs": [],
   "source": [
    "df['thinness_comb'] = df['thinness59years'] + df['thinness119years']\n",
    "df['log_gdp'] = np.log2(df['gdp'])\n",
    "df['log_population'] = np.log2(df['population'])\n",
    "df = pd.get_dummies(df, columns=['country'], drop_first=True, prefix=\"dum\")\n",
    "df.head()\n",
    "df['gdp_expenditure_ratio'] = df['gdp'] / df['totalexpenditure']"
   ]
  },
  {
   "cell_type": "code",
   "execution_count": 5,
   "id": "5dde3dee-601b-4b03-a69a-139f36bd97e2",
   "metadata": {},
   "outputs": [
    {
     "data": {
      "text/html": [
       "<div>\n",
       "<style scoped>\n",
       "    .dataframe tbody tr th:only-of-type {\n",
       "        vertical-align: middle;\n",
       "    }\n",
       "\n",
       "    .dataframe tbody tr th {\n",
       "        vertical-align: top;\n",
       "    }\n",
       "\n",
       "    .dataframe thead th {\n",
       "        text-align: right;\n",
       "    }\n",
       "</style>\n",
       "<table border=\"1\" class=\"dataframe\">\n",
       "  <thead>\n",
       "    <tr style=\"text-align: right;\">\n",
       "      <th></th>\n",
       "      <th>dum_Albania</th>\n",
       "      <th>dum_Algeria</th>\n",
       "      <th>dum_Angola</th>\n",
       "      <th>dum_Antigua and Barbuda</th>\n",
       "      <th>dum_Argentina</th>\n",
       "      <th>dum_Armenia</th>\n",
       "      <th>dum_Australia</th>\n",
       "      <th>dum_Austria</th>\n",
       "      <th>dum_Azerbaijan</th>\n",
       "      <th>dum_Bahamas</th>\n",
       "      <th>...</th>\n",
       "      <th>dum_United Republic of Tanzania</th>\n",
       "      <th>dum_United States of America</th>\n",
       "      <th>dum_Uruguay</th>\n",
       "      <th>dum_Uzbekistan</th>\n",
       "      <th>dum_Vanuatu</th>\n",
       "      <th>dum_Venezuela (Bolivarian Republic of)</th>\n",
       "      <th>dum_Viet Nam</th>\n",
       "      <th>dum_Yemen</th>\n",
       "      <th>dum_Zambia</th>\n",
       "      <th>dum_Zimbabwe</th>\n",
       "    </tr>\n",
       "  </thead>\n",
       "  <tbody>\n",
       "    <tr>\n",
       "      <th>0</th>\n",
       "      <td>False</td>\n",
       "      <td>False</td>\n",
       "      <td>False</td>\n",
       "      <td>False</td>\n",
       "      <td>False</td>\n",
       "      <td>False</td>\n",
       "      <td>False</td>\n",
       "      <td>False</td>\n",
       "      <td>False</td>\n",
       "      <td>False</td>\n",
       "      <td>...</td>\n",
       "      <td>False</td>\n",
       "      <td>False</td>\n",
       "      <td>False</td>\n",
       "      <td>False</td>\n",
       "      <td>False</td>\n",
       "      <td>False</td>\n",
       "      <td>False</td>\n",
       "      <td>False</td>\n",
       "      <td>False</td>\n",
       "      <td>False</td>\n",
       "    </tr>\n",
       "    <tr>\n",
       "      <th>1</th>\n",
       "      <td>False</td>\n",
       "      <td>False</td>\n",
       "      <td>False</td>\n",
       "      <td>False</td>\n",
       "      <td>False</td>\n",
       "      <td>False</td>\n",
       "      <td>False</td>\n",
       "      <td>False</td>\n",
       "      <td>False</td>\n",
       "      <td>False</td>\n",
       "      <td>...</td>\n",
       "      <td>False</td>\n",
       "      <td>False</td>\n",
       "      <td>False</td>\n",
       "      <td>False</td>\n",
       "      <td>False</td>\n",
       "      <td>False</td>\n",
       "      <td>False</td>\n",
       "      <td>False</td>\n",
       "      <td>False</td>\n",
       "      <td>False</td>\n",
       "    </tr>\n",
       "    <tr>\n",
       "      <th>2</th>\n",
       "      <td>False</td>\n",
       "      <td>False</td>\n",
       "      <td>False</td>\n",
       "      <td>False</td>\n",
       "      <td>False</td>\n",
       "      <td>False</td>\n",
       "      <td>False</td>\n",
       "      <td>False</td>\n",
       "      <td>False</td>\n",
       "      <td>False</td>\n",
       "      <td>...</td>\n",
       "      <td>False</td>\n",
       "      <td>False</td>\n",
       "      <td>False</td>\n",
       "      <td>False</td>\n",
       "      <td>False</td>\n",
       "      <td>False</td>\n",
       "      <td>False</td>\n",
       "      <td>False</td>\n",
       "      <td>False</td>\n",
       "      <td>False</td>\n",
       "    </tr>\n",
       "    <tr>\n",
       "      <th>3</th>\n",
       "      <td>False</td>\n",
       "      <td>False</td>\n",
       "      <td>False</td>\n",
       "      <td>False</td>\n",
       "      <td>False</td>\n",
       "      <td>False</td>\n",
       "      <td>False</td>\n",
       "      <td>False</td>\n",
       "      <td>False</td>\n",
       "      <td>False</td>\n",
       "      <td>...</td>\n",
       "      <td>False</td>\n",
       "      <td>False</td>\n",
       "      <td>False</td>\n",
       "      <td>False</td>\n",
       "      <td>False</td>\n",
       "      <td>False</td>\n",
       "      <td>False</td>\n",
       "      <td>False</td>\n",
       "      <td>False</td>\n",
       "      <td>False</td>\n",
       "    </tr>\n",
       "    <tr>\n",
       "      <th>4</th>\n",
       "      <td>False</td>\n",
       "      <td>False</td>\n",
       "      <td>False</td>\n",
       "      <td>False</td>\n",
       "      <td>False</td>\n",
       "      <td>False</td>\n",
       "      <td>False</td>\n",
       "      <td>False</td>\n",
       "      <td>False</td>\n",
       "      <td>False</td>\n",
       "      <td>...</td>\n",
       "      <td>False</td>\n",
       "      <td>False</td>\n",
       "      <td>False</td>\n",
       "      <td>False</td>\n",
       "      <td>False</td>\n",
       "      <td>False</td>\n",
       "      <td>False</td>\n",
       "      <td>False</td>\n",
       "      <td>False</td>\n",
       "      <td>False</td>\n",
       "    </tr>\n",
       "    <tr>\n",
       "      <th>...</th>\n",
       "      <td>...</td>\n",
       "      <td>...</td>\n",
       "      <td>...</td>\n",
       "      <td>...</td>\n",
       "      <td>...</td>\n",
       "      <td>...</td>\n",
       "      <td>...</td>\n",
       "      <td>...</td>\n",
       "      <td>...</td>\n",
       "      <td>...</td>\n",
       "      <td>...</td>\n",
       "      <td>...</td>\n",
       "      <td>...</td>\n",
       "      <td>...</td>\n",
       "      <td>...</td>\n",
       "      <td>...</td>\n",
       "      <td>...</td>\n",
       "      <td>...</td>\n",
       "      <td>...</td>\n",
       "      <td>...</td>\n",
       "      <td>...</td>\n",
       "    </tr>\n",
       "    <tr>\n",
       "      <th>2933</th>\n",
       "      <td>False</td>\n",
       "      <td>False</td>\n",
       "      <td>False</td>\n",
       "      <td>False</td>\n",
       "      <td>False</td>\n",
       "      <td>False</td>\n",
       "      <td>False</td>\n",
       "      <td>False</td>\n",
       "      <td>False</td>\n",
       "      <td>False</td>\n",
       "      <td>...</td>\n",
       "      <td>False</td>\n",
       "      <td>False</td>\n",
       "      <td>False</td>\n",
       "      <td>False</td>\n",
       "      <td>False</td>\n",
       "      <td>False</td>\n",
       "      <td>False</td>\n",
       "      <td>False</td>\n",
       "      <td>False</td>\n",
       "      <td>True</td>\n",
       "    </tr>\n",
       "    <tr>\n",
       "      <th>2934</th>\n",
       "      <td>False</td>\n",
       "      <td>False</td>\n",
       "      <td>False</td>\n",
       "      <td>False</td>\n",
       "      <td>False</td>\n",
       "      <td>False</td>\n",
       "      <td>False</td>\n",
       "      <td>False</td>\n",
       "      <td>False</td>\n",
       "      <td>False</td>\n",
       "      <td>...</td>\n",
       "      <td>False</td>\n",
       "      <td>False</td>\n",
       "      <td>False</td>\n",
       "      <td>False</td>\n",
       "      <td>False</td>\n",
       "      <td>False</td>\n",
       "      <td>False</td>\n",
       "      <td>False</td>\n",
       "      <td>False</td>\n",
       "      <td>True</td>\n",
       "    </tr>\n",
       "    <tr>\n",
       "      <th>2935</th>\n",
       "      <td>False</td>\n",
       "      <td>False</td>\n",
       "      <td>False</td>\n",
       "      <td>False</td>\n",
       "      <td>False</td>\n",
       "      <td>False</td>\n",
       "      <td>False</td>\n",
       "      <td>False</td>\n",
       "      <td>False</td>\n",
       "      <td>False</td>\n",
       "      <td>...</td>\n",
       "      <td>False</td>\n",
       "      <td>False</td>\n",
       "      <td>False</td>\n",
       "      <td>False</td>\n",
       "      <td>False</td>\n",
       "      <td>False</td>\n",
       "      <td>False</td>\n",
       "      <td>False</td>\n",
       "      <td>False</td>\n",
       "      <td>True</td>\n",
       "    </tr>\n",
       "    <tr>\n",
       "      <th>2936</th>\n",
       "      <td>False</td>\n",
       "      <td>False</td>\n",
       "      <td>False</td>\n",
       "      <td>False</td>\n",
       "      <td>False</td>\n",
       "      <td>False</td>\n",
       "      <td>False</td>\n",
       "      <td>False</td>\n",
       "      <td>False</td>\n",
       "      <td>False</td>\n",
       "      <td>...</td>\n",
       "      <td>False</td>\n",
       "      <td>False</td>\n",
       "      <td>False</td>\n",
       "      <td>False</td>\n",
       "      <td>False</td>\n",
       "      <td>False</td>\n",
       "      <td>False</td>\n",
       "      <td>False</td>\n",
       "      <td>False</td>\n",
       "      <td>True</td>\n",
       "    </tr>\n",
       "    <tr>\n",
       "      <th>2937</th>\n",
       "      <td>False</td>\n",
       "      <td>False</td>\n",
       "      <td>False</td>\n",
       "      <td>False</td>\n",
       "      <td>False</td>\n",
       "      <td>False</td>\n",
       "      <td>False</td>\n",
       "      <td>False</td>\n",
       "      <td>False</td>\n",
       "      <td>False</td>\n",
       "      <td>...</td>\n",
       "      <td>False</td>\n",
       "      <td>False</td>\n",
       "      <td>False</td>\n",
       "      <td>False</td>\n",
       "      <td>False</td>\n",
       "      <td>False</td>\n",
       "      <td>False</td>\n",
       "      <td>False</td>\n",
       "      <td>False</td>\n",
       "      <td>True</td>\n",
       "    </tr>\n",
       "  </tbody>\n",
       "</table>\n",
       "<p>2938 rows × 192 columns</p>\n",
       "</div>"
      ],
      "text/plain": [
       "      dum_Albania  dum_Algeria  dum_Angola  dum_Antigua and Barbuda  \\\n",
       "0           False        False       False                    False   \n",
       "1           False        False       False                    False   \n",
       "2           False        False       False                    False   \n",
       "3           False        False       False                    False   \n",
       "4           False        False       False                    False   \n",
       "...           ...          ...         ...                      ...   \n",
       "2933        False        False       False                    False   \n",
       "2934        False        False       False                    False   \n",
       "2935        False        False       False                    False   \n",
       "2936        False        False       False                    False   \n",
       "2937        False        False       False                    False   \n",
       "\n",
       "      dum_Argentina  dum_Armenia  dum_Australia  dum_Austria  dum_Azerbaijan  \\\n",
       "0             False        False          False        False           False   \n",
       "1             False        False          False        False           False   \n",
       "2             False        False          False        False           False   \n",
       "3             False        False          False        False           False   \n",
       "4             False        False          False        False           False   \n",
       "...             ...          ...            ...          ...             ...   \n",
       "2933          False        False          False        False           False   \n",
       "2934          False        False          False        False           False   \n",
       "2935          False        False          False        False           False   \n",
       "2936          False        False          False        False           False   \n",
       "2937          False        False          False        False           False   \n",
       "\n",
       "      dum_Bahamas  ...  dum_United Republic of Tanzania  \\\n",
       "0           False  ...                            False   \n",
       "1           False  ...                            False   \n",
       "2           False  ...                            False   \n",
       "3           False  ...                            False   \n",
       "4           False  ...                            False   \n",
       "...           ...  ...                              ...   \n",
       "2933        False  ...                            False   \n",
       "2934        False  ...                            False   \n",
       "2935        False  ...                            False   \n",
       "2936        False  ...                            False   \n",
       "2937        False  ...                            False   \n",
       "\n",
       "      dum_United States of America  dum_Uruguay  dum_Uzbekistan  dum_Vanuatu  \\\n",
       "0                            False        False           False        False   \n",
       "1                            False        False           False        False   \n",
       "2                            False        False           False        False   \n",
       "3                            False        False           False        False   \n",
       "4                            False        False           False        False   \n",
       "...                            ...          ...             ...          ...   \n",
       "2933                         False        False           False        False   \n",
       "2934                         False        False           False        False   \n",
       "2935                         False        False           False        False   \n",
       "2936                         False        False           False        False   \n",
       "2937                         False        False           False        False   \n",
       "\n",
       "      dum_Venezuela (Bolivarian Republic of)  dum_Viet Nam  dum_Yemen  \\\n",
       "0                                      False         False      False   \n",
       "1                                      False         False      False   \n",
       "2                                      False         False      False   \n",
       "3                                      False         False      False   \n",
       "4                                      False         False      False   \n",
       "...                                      ...           ...        ...   \n",
       "2933                                   False         False      False   \n",
       "2934                                   False         False      False   \n",
       "2935                                   False         False      False   \n",
       "2936                                   False         False      False   \n",
       "2937                                   False         False      False   \n",
       "\n",
       "      dum_Zambia  dum_Zimbabwe  \n",
       "0          False         False  \n",
       "1          False         False  \n",
       "2          False         False  \n",
       "3          False         False  \n",
       "4          False         False  \n",
       "...          ...           ...  \n",
       "2933       False          True  \n",
       "2934       False          True  \n",
       "2935       False          True  \n",
       "2936       False          True  \n",
       "2937       False          True  \n",
       "\n",
       "[2938 rows x 192 columns]"
      ]
     },
     "execution_count": 5,
     "metadata": {},
     "output_type": "execute_result"
    }
   ],
   "source": [
    "# to access all your dummy cols\n",
    "df[[col for col in df if col.startswith('dum')]]"
   ]
  },
  {
   "cell_type": "markdown",
   "id": "9d04628c-e92f-49ec-9c9a-a0a6cc6196f3",
   "metadata": {},
   "source": [
    "* Summarize data"
   ]
  },
  {
   "cell_type": "markdown",
   "id": "ba767d60-f99a-4663-b80e-b74291ce6c9a",
   "metadata": {},
   "source": [
    "1. How many observations are there for developing countries?\n",
    "2. Drop all observations with missing values. How many rows were there before and how many are there now?\n",
    "3. How old is the oldest observation?"
   ]
  },
  {
   "cell_type": "code",
   "execution_count": 6,
   "id": "2194df56-2b45-4b49-a662-7916ced2d4f8",
   "metadata": {},
   "outputs": [
    {
     "name": "stdout",
     "output_type": "stream",
     "text": [
      "2426\n",
      "2000\n"
     ]
    }
   ],
   "source": [
    "print(df[df['status'] == 'Developing'].shape[0])\n",
    "df = df.dropna()\n",
    "print(df['year'].min())"
   ]
  },
  {
   "cell_type": "markdown",
   "id": "21890740-563e-4bc1-ba18-815306c9f182",
   "metadata": {},
   "source": [
    "* Generate outputs"
   ]
  },
  {
   "cell_type": "markdown",
   "id": "3f5fe0bb-56d2-4ae8-a60b-94a22602a5e9",
   "metadata": {},
   "source": [
    "1. Export the new dataset as a CSV in your lab folder.\n",
    "2. Keep the following columns in a new dataset called `le2`: all your engineered features plus Life Expectancy, Schooling, GDP, total expenditures, and BMI. Drop everything else."
   ]
  },
  {
   "cell_type": "code",
   "execution_count": 7,
   "id": "0a62d3b9-a95d-4420-b388-7cac9eb009bd",
   "metadata": {},
   "outputs": [],
   "source": [
    "df.to_csv(\"le2.csv\")"
   ]
  },
  {
   "cell_type": "markdown",
   "id": "4ab363dc-644a-4be7-8a2d-6c5df1528022",
   "metadata": {},
   "source": [
    "### 2. NumPy"
   ]
  },
  {
   "cell_type": "markdown",
   "id": "20a8c7cb-ec22-43f3-b26b-629072200f8b",
   "metadata": {},
   "source": [
    "* Define the following NumPy arrays:\n",
    "    1. `X`, containing the `schooling` and `gdp` variables in `le2`\n",
    "    2. `y`, containing only the life expectancy variable"
   ]
  },
  {
   "cell_type": "code",
   "execution_count": 8,
   "id": "e20dd362-ef20-4292-9ebf-2746b5859e67",
   "metadata": {},
   "outputs": [],
   "source": [
    "X = np.array(df[['schooling','gdp']].fillna(0.0).astype(np.float64).to_numpy())\n",
    "y = np.array(df[['lifeexpectancy']].fillna(0.0).astype(np.float64).to_numpy())\n",
    "X = np.hstack((np.ones(X.shape[0]).reshape(X.shape[0],1),X))"
   ]
  },
  {
   "cell_type": "markdown",
   "id": "49693a52-fe6b-4144-9a9e-d7ab6d6cdaa1",
   "metadata": {},
   "source": [
    "* Regression by hand\n",
    "    1. Using linear algebra operations, perform OLS to estimate $\\beta = (X^TX)^{-1}X^TY$. What is the coefficient estimate for the effect of schooling on life expectancy?"
   ]
  },
  {
   "cell_type": "code",
   "execution_count": 9,
   "id": "e62e394b-2592-49be-846a-c1d12b065d46",
   "metadata": {},
   "outputs": [
    {
     "data": {
      "text/plain": [
       "array([[4.33036289e+01],\n",
       "       [2.09967715e+00],\n",
       "       [9.89605585e-05]])"
      ]
     },
     "execution_count": 9,
     "metadata": {},
     "output_type": "execute_result"
    }
   ],
   "source": [
    "beta = np.linalg.inv(X.T @ X) @ X.T @ y\n",
    "beta"
   ]
  },
  {
   "cell_type": "markdown",
   "id": "6945f596-93b2-49bd-8d01-0147c342b274",
   "metadata": {},
   "source": [
    "### 3. Random Forest"
   ]
  },
  {
   "cell_type": "markdown",
   "id": "03efb621-31f7-4d46-8c27-62542eb40fb4",
   "metadata": {},
   "source": [
    "* Train a random forest classifier to predict whether a country is \"developed\" in a given year based on all the other features, including life expectancy."
   ]
  },
  {
   "cell_type": "code",
   "execution_count": 10,
   "id": "c1ad9eb6-3d27-4f26-a3b7-45ddb2558ea2",
   "metadata": {},
   "outputs": [
    {
     "name": "stdout",
     "output_type": "stream",
     "text": [
      "Train Score: 0.9833275723009564\n",
      "Test Score: 0.9696969696969697\n"
     ]
    }
   ],
   "source": [
    "from sklearn.preprocessing import LabelEncoder\n",
    "from sklearn.model_selection import train_test_split\n",
    "from sklearn.model_selection import cross_val_score\n",
    "from sklearn.model_selection import GridSearchCV\n",
    "from sklearn.preprocessing import StandardScaler\n",
    "from sklearn.ensemble import RandomForestClassifier\n",
    "\n",
    "# df['developed'] = 0\n",
    "# df['developed'] = df.loc[df['status'] == 'Developed'] = 1\n",
    "df['developed'] = df['status'].apply(lambda x: 1 if x == 'Developed' else 0)\n",
    "\n",
    "X = df[['lifeexpectancy','adultmortality',\n",
    "       'infantdeaths', 'alcohol', 'percentageexpenditure', 'hepatitisb',\n",
    "       'measles', 'avg_bmi', 'under_five_deaths', 'polio', 'totalexpenditure',\n",
    "       'diphtheria', 'hivaids', 'gdp', 'population', 'thinness119years',\n",
    "       'thinness59years', 'composition', 'schooling']]\n",
    "y = df['developed']\n",
    "\n",
    "X_train, X_test, y_train, y_test = train_test_split(\n",
    "    X, y, test_size=0.2, random_state=42, shuffle=True\n",
    ")\n",
    "\n",
    "rfc = RandomForestClassifier(random_state=42)\n",
    "\n",
    "accuracies = cross_val_score(rfc, X_train, y_train, cv=5)\n",
    "rfc.fit(X_train, y_train)\n",
    "y_pred = rfc.predict(X_test)\n",
    "\n",
    "print(\"Train Score:\", np.mean(accuracies))\n",
    "print(\"Test Score:\", rfc.score(X_test, y_test))\n"
   ]
  },
  {
   "cell_type": "markdown",
   "id": "a6417d3c-b998-4a34-9546-3a13929ba1b7",
   "metadata": {},
   "source": [
    "* **Bonus:** Can you figure out how to extract feature importance from the classifier?"
   ]
  },
  {
   "cell_type": "code",
   "execution_count": 11,
   "id": "1522ea0c-72d5-4ff3-b981-3abd46b2b6ac",
   "metadata": {},
   "outputs": [],
   "source": [
    "feature_importance = np.array(rfc.feature_importances_)\n",
    "feature_names = np.array(X.columns)\n",
    "\n",
    "data = pd.DataFrame({'feature_names': feature_names, 'feature_importance': feature_importance})"
   ]
  },
  {
   "cell_type": "code",
   "execution_count": null,
   "id": "8e19fc55-9bdb-4aea-9f75-08007e49740e",
   "metadata": {},
   "outputs": [],
   "source": []
  }
 ],
 "metadata": {
  "kernelspec": {
   "display_name": "Python 3 (ipykernel)",
   "language": "python",
   "name": "python3"
  },
  "language_info": {
   "codemirror_mode": {
    "name": "ipython",
    "version": 3
   },
   "file_extension": ".py",
   "mimetype": "text/x-python",
   "name": "python",
   "nbconvert_exporter": "python",
   "pygments_lexer": "ipython3",
   "version": "3.9.19"
  }
 },
 "nbformat": 4,
 "nbformat_minor": 5
}
