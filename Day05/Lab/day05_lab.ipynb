{
 "cells": [
  {
   "cell_type": "markdown",
   "metadata": {},
   "source": [
    "# Lab: APIs"
   ]
  },
  {
   "cell_type": "markdown",
   "metadata": {},
   "source": [
    "##### Instructions: \n",
    "\n",
    "Write your own Python script to answer the following questions: \n",
    "1. Which of these embassies is closest to the White House in meters? What is the address? \n",
    "2. If I wanted to hold a morning meeting there, which cafe would you suggest (best rating and closest)?\n",
    "3. If I wanted to hold an upscale evening meeting there, which fancy bar would you suggest? \n",
    "\n",
    "Hint: \n",
    "- You will need to enable the `Google Places API`.\n",
    "- You may find this page useful to learn about different findinging nearby places https://www.geeksforgeeks.org/python-fetch-nearest-hospital-locations-using-googlemaps-api/"
   ]
  },
  {
   "cell_type": "code",
   "execution_count": 76,
   "metadata": {},
   "outputs": [
    {
     "data": {
      "text/plain": [
       "'1601 Massachusetts Avenue Northwest'"
      ]
     },
     "execution_count": 76,
     "metadata": {},
     "output_type": "execute_result"
    }
   ],
   "source": [
    "import importlib\n",
    "import os\n",
    "import googlemaps\n",
    "import numpy as np\n",
    "from googleplaces import GooglePlaces, types, lang \n",
    "\n",
    "os.chdir('/home/nath/washu/python_camp/PythonCamp2024/Day05/Lecture')\n",
    "imported_items = importlib.import_module('start_google')\n",
    "gmaps = imported_items.client\n",
    "\n",
    "whitehouse = '1600 Pennsylvania Avenue, Washington, DC'\n",
    "\n",
    "embassies = [[38.917228,-77.0522365], \n",
    "\t[38.9076502, -77.0370427], \n",
    "\t[38.916944, -77.048739] ]\n",
    "\n",
    "wh = gmaps.geocode('1600 Pennsylvania Avenue, Washington, DC')\n",
    "wh_loc = wh[0]['geometry']['location']\n",
    "\n",
    "embassy_names = []\n",
    "distances = []\n",
    "\n",
    "for embassy in embassies:\n",
    "    embassy_loc = {'lat': embassy[0], 'lng': embassy[1]}\n",
    "    distance = gmaps.distance_matrix(wh_loc, embassy_loc)\n",
    "    distances.append(distance['rows'][0]['elements'][0]['distance']['value'])\n",
    "    name = gmaps.reverse_geocode(embassy_loc)[0]['address_components'][0]['long_name'] + \\\n",
    "        \" \" + \\\n",
    "        gmaps.reverse_geocode(embassy_loc)[0]['address_components'][1]['long_name']\n",
    "    embassy_names.append(name)\n",
    "\n",
    "min_idx = np.argmin(np.array(distances))\n",
    "\n",
    "min_dist_embassy = embassy_names[min_idx]\n",
    "min_dist_embassy"
   ]
  },
  {
   "cell_type": "markdown",
   "metadata": {},
   "source": [
    "Define functions to fetch the cafes and bars closest to the White House."
   ]
  },
  {
   "cell_type": "code",
   "execution_count": 58,
   "metadata": {},
   "outputs": [],
   "source": [
    "def get_closest_cafe():\n",
    "\n",
    "    \"\"\" Gets all cafes within a radius of 5000 units of the White House. \"\"\"\n",
    "    \n",
    "    names, ratings, locations, distances_from_wh = [], [], [], []\n",
    "    \n",
    "    query_result = imported_items.google_places.nearby_search( \n",
    "            lat_lng = wh_loc, \n",
    "            radius = 5000, \n",
    "            types =[types.TYPE_CAFE]) \n",
    "    \n",
    "    for place in query_result.places: \n",
    "        place.get_details()\n",
    "        rating = place.rating\n",
    "        name = place.name\n",
    "        lat = float(place.geo_location['lat'])\n",
    "        lng = float(place.geo_location['lng'])\n",
    "        location = {'lat': lat, 'lng': lng}\n",
    "        distance = gmaps.distance_matrix(wh_loc,location)\n",
    "        distance_from_wh = float(distance['rows'][0]['elements'][0]['distance']['value'])\n",
    "    \n",
    "        names.append(name)\n",
    "        ratings.append(rating)\n",
    "        locations.append(location)\n",
    "        distances_from_wh.append(distance_from_wh)\n",
    "\n",
    "    return names, ratings, locations, distances_from_wh  \n",
    "\n",
    "def get_closest_bar():\n",
    "\n",
    "    \"\"\" Gets all bars within a radius of 5000 units of the White House. \"\"\"\n",
    "    \n",
    "    names, ratings, locations, distances_from_wh = [], [], [], []\n",
    "    \n",
    "    query_result = imported_items.google_places.nearby_search( \n",
    "            lat_lng = wh_loc, \n",
    "            radius = 5000, \n",
    "            types =[types.TYPE_BAR]) \n",
    "    \n",
    "    for place in query_result.places: \n",
    "        place.get_details()\n",
    "        rating = place.rating\n",
    "        name = place.name\n",
    "        lat = float(place.geo_location['lat'])\n",
    "        lng = float(place.geo_location['lng'])\n",
    "        location = {'lat': lat, 'lng': lng}\n",
    "        distance = gmaps.distance_matrix(wh_loc,location)\n",
    "        distance_from_wh = float(distance['rows'][0]['elements'][0]['distance']['value'])\n",
    "    \n",
    "        names.append(name)\n",
    "        ratings.append(rating)\n",
    "        locations.append(location)\n",
    "        distances_from_wh.append(distance_from_wh)\n",
    "\n",
    "    return names, ratings, locations, distances_from_wh  "
   ]
  },
  {
   "cell_type": "markdown",
   "metadata": {},
   "source": [
    "Choose top 20 closest cafes. Then out of those top 20 closest cafes, select the cafe with the best rating."
   ]
  },
  {
   "cell_type": "code",
   "execution_count": 61,
   "metadata": {},
   "outputs": [
    {
     "data": {
      "text/plain": [
       "name                                          Le Diplomate\n",
       "rating                                                 4.6\n",
       "location            {'lat': 38.911365, 'lng': -77.0316635}\n",
       "distance_from_wh                                    3164.0\n",
       "Name: 2, dtype: object"
      ]
     },
     "execution_count": 61,
     "metadata": {},
     "output_type": "execute_result"
    }
   ],
   "source": [
    "names, ratings, locations, distances_from_wh = get_closest_cafe()\n",
    "\n",
    "import pandas as pd\n",
    "\n",
    "df = pd.DataFrame({'name': names,\n",
    "                   'rating': ratings,\n",
    "                   'location': locations,\n",
    "                   'distance_from_wh': distances_from_wh})\n",
    "\n",
    "df = df.sort_values(by='distance_from_wh', ascending=True)\n",
    "df = df.head(20)\n",
    "max_row = df.loc[df['rating'].idxmax()]\n",
    "max_row"
   ]
  },
  {
   "cell_type": "markdown",
   "metadata": {},
   "source": [
    "Get top 20 closest bars. Of these 20 bars, select the bar with the highest rating."
   ]
  },
  {
   "cell_type": "code",
   "execution_count": 62,
   "metadata": {},
   "outputs": [
    {
     "data": {
      "text/plain": [
       "name                                 The Jefferson, Washington, DC\n",
       "rating                                                         4.7\n",
       "location            {'lat': 38.9059541, 'lng': -77.03683029999999}\n",
       "distance_from_wh                                            2942.0\n",
       "Name: 0, dtype: object"
      ]
     },
     "execution_count": 62,
     "metadata": {},
     "output_type": "execute_result"
    }
   ],
   "source": [
    "names, ratings, locations, distances_from_wh = get_closest_bar()\n",
    "\n",
    "import pandas as pd\n",
    "\n",
    "df = pd.DataFrame({'name': names,\n",
    "                   'rating': ratings,\n",
    "                   'location': locations,\n",
    "                   'distance_from_wh': distances_from_wh})\n",
    "\n",
    "df = df.sort_values(by='distance_from_wh', ascending=True)\n",
    "df = df.head(20)\n",
    "max_row = df.loc[df['rating'].idxmax()]\n",
    "max_row"
   ]
  }
 ],
 "metadata": {
  "kernelspec": {
   "display_name": "Python 3 (ipykernel)",
   "language": "python",
   "name": "python3"
  },
  "language_info": {
   "codemirror_mode": {
    "name": "ipython",
    "version": 3
   },
   "file_extension": ".py",
   "mimetype": "text/x-python",
   "name": "python",
   "nbconvert_exporter": "python",
   "pygments_lexer": "ipython3",
   "version": "3.9.19"
  }
 },
 "nbformat": 4,
 "nbformat_minor": 4
}
