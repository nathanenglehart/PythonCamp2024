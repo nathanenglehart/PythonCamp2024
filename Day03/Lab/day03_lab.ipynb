{
 "cells": [
  {
   "cell_type": "markdown",
   "metadata": {},
   "source": [
    "# Lab: Error Handling"
   ]
  },
  {
   "cell_type": "markdown",
   "metadata": {},
   "source": [
    "1. Complete the function to make all characters capitalized. \n",
    "    - check out the `.upper()` function\n",
    "    - handle the exception when intergers are given instead of strings"
   ]
  },
  {
   "cell_type": "code",
   "execution_count": 24,
   "metadata": {},
   "outputs": [
    {
     "name": "stdout",
     "output_type": "stream",
     "text": [
      "Non-string txt argument error\n"
     ]
    },
    {
     "data": {
      "text/plain": [
       "'HI'"
      ]
     },
     "execution_count": 24,
     "metadata": {},
     "output_type": "execute_result"
    }
   ],
   "source": [
    "def shout(txt):\n",
    "    try:\n",
    "        return txt.upper()\n",
    "    except AttributeError:\n",
    "        print(\"Non-string txt argument error\")\n",
    "    \n",
    "shout(8)\n",
    "shout(\"hi\")"
   ]
  },
  {
   "cell_type": "markdown",
   "metadata": {},
   "source": [
    "2. Reverse all characters in a string\n",
    "    - handle the exception when integers are given \n",
    "    - use a different method to handle this from 1."
   ]
  },
  {
   "cell_type": "code",
   "execution_count": 25,
   "metadata": {},
   "outputs": [
    {
     "name": "stdout",
     "output_type": "stream",
     "text": [
      "Non-string txt argument error\n"
     ]
    },
    {
     "data": {
      "text/plain": [
       "'ih'"
      ]
     },
     "execution_count": 25,
     "metadata": {},
     "output_type": "execute_result"
    }
   ],
   "source": [
    "def reverse(txt):\n",
    "    try:\n",
    "        return txt[::-1]\n",
    "    except TypeError:\n",
    "        print(\"Non-string txt argument error\")\n",
    "\n",
    "reverse(8)\n",
    "reverse(\"hi\")"
   ]
  },
  {
   "cell_type": "markdown",
   "metadata": {},
   "source": [
    "3. Reverse the word ordering in a string\n",
    "    - assume words are separated by space\n",
    "    - think of one error that could occur and handle it accordingly"
   ]
  },
  {
   "cell_type": "code",
   "execution_count": 26,
   "metadata": {},
   "outputs": [
    {
     "name": "stdout",
     "output_type": "stream",
     "text": [
      "Non-string txt argument error\n"
     ]
    },
    {
     "data": {
      "text/plain": [
       "'yoda am i'"
      ]
     },
     "execution_count": 26,
     "metadata": {},
     "output_type": "execute_result"
    }
   ],
   "source": [
    "def reversewords(txt):\n",
    "    try:\n",
    "        txt = txt.split(' ')\n",
    "        txt.reverse()\n",
    "        return ' '.join(txt)\n",
    "    except AttributeError:\n",
    "        print(\"Non-string txt argument error\")\n",
    "\n",
    "reversewords(8)\n",
    "reversewords(\"i am yoda\")"
   ]
  },
  {
   "cell_type": "markdown",
   "metadata": {},
   "source": [
    "4. Reverse letters in each word in the string\n",
    "    - The word ordering is preserved\n",
    "    - Only the letters are reversed "
   ]
  },
  {
   "cell_type": "code",
   "execution_count": 27,
   "metadata": {},
   "outputs": [
    {
     "data": {
      "text/plain": [
       "'i ma nahtan'"
      ]
     },
     "execution_count": 27,
     "metadata": {},
     "output_type": "execute_result"
    }
   ],
   "source": [
    "def reversewordletters(txt):\n",
    "    try:\n",
    "        result = list()\n",
    "        txt = txt.split(' ')\n",
    "        for word in txt:\n",
    "            result.append(reverse(word))\n",
    "        return ' '.join(result)\n",
    "    except AttributeError:\n",
    "        print(\"Non-string txt argument error\")\n",
    "\n",
    "reversewordletters(\"i am nathan\")"
   ]
  },
  {
   "cell_type": "markdown",
   "metadata": {},
   "source": [
    "5. (Optional) Change text to piglatin... Google it! \n",
    "    - Handle errors accordingly"
   ]
  },
  {
   "cell_type": "code",
   "execution_count": 28,
   "metadata": {},
   "outputs": [
    {
     "data": {
      "text/plain": [
       "'is is a sentencethay'"
      ]
     },
     "execution_count": 28,
     "metadata": {},
     "output_type": "execute_result"
    }
   ],
   "source": [
    "def piglatin(txt):\n",
    "    try:\n",
    "        vowels = ['a','e','i','o','u']\n",
    "        first_vowel = [i in vowels for i in txt].index(True)\n",
    "    except ValueError:\n",
    "            first_vowel = [i=='y' for i in txt].index(True)\n",
    "    ordering = [i for i in range(first_vowel, len(txt))]\n",
    "    ordering.extend(range(0,first_vowel))\n",
    "    result = [i for i in map(txt.__getitem__, ordering)]\n",
    "    result.extend('ay')\n",
    "    return ''.join(result)\n",
    "\n",
    "piglatin(\"this is a sentence\")"
   ]
  },
  {
   "cell_type": "code",
   "execution_count": null,
   "metadata": {},
   "outputs": [],
   "source": []
  },
  {
   "cell_type": "code",
   "execution_count": null,
   "metadata": {},
   "outputs": [],
   "source": []
  }
 ],
 "metadata": {
  "kernelspec": {
   "display_name": "Python 3 (ipykernel)",
   "language": "python",
   "name": "python3"
  },
  "language_info": {
   "codemirror_mode": {
    "name": "ipython",
    "version": 3
   },
   "file_extension": ".py",
   "mimetype": "text/x-python",
   "name": "python",
   "nbconvert_exporter": "python",
   "pygments_lexer": "ipython3",
   "version": "3.9.19"
  }
 },
 "nbformat": 4,
 "nbformat_minor": 4
}
