{
 "cells": [
  {
   "cell_type": "markdown",
   "metadata": {},
   "source": [
    "1. Change to your working directory. Open text file of 2008 NH primary Obama speech"
   ]
  },
  {
   "cell_type": "code",
   "execution_count": 1,
   "metadata": {},
   "outputs": [
    {
     "name": "stdout",
     "output_type": "stream",
     "text": [
      "/home/nath/washu/python_camp/PythonCamp2024/Day06/Lab\n",
      "day06_lab.ipynb  obama-nh.txt\n"
     ]
    }
   ],
   "source": [
    "!pwd\n",
    "!ls"
   ]
  },
  {
   "cell_type": "code",
   "execution_count": 2,
   "metadata": {},
   "outputs": [],
   "source": [
    "import re\n",
    "import os\n",
    "\n",
    "with open('obama-nh.txt', 'r') as file:\n",
    "    obama = file.readlines()"
   ]
  },
  {
   "cell_type": "markdown",
   "metadata": {},
   "source": [
    "2. Print lines that do NOT contain 'the' using what we learned today. \n",
    "\n",
    "(Although you might think you could do something like `[l for l in obama if \"the\" not in l]`)"
   ]
  },
  {
   "cell_type": "code",
   "execution_count": 3,
   "metadata": {},
   "outputs": [
    {
     "data": {
      "text/plain": [
       "86"
      ]
     },
     "execution_count": 3,
     "metadata": {},
     "output_type": "execute_result"
    }
   ],
   "source": [
    "no_the = list()\n",
    "for line in obama:\n",
    "    if(not re.findall(r'\\bthe\\b', line)):\n",
    "        no_the.append(line)\n",
    "len(no_the)"
   ]
  },
  {
   "cell_type": "markdown",
   "metadata": {},
   "source": [
    "3. Print lines that contain a word of any length starting with `s` and ending with `e`"
   ]
  },
  {
   "cell_type": "code",
   "execution_count": 4,
   "metadata": {},
   "outputs": [
    {
     "name": "stdout",
     "output_type": "stream",
     "text": [
      "out and spoke up for change. And with your voices and your votes, you\n",
      "\n",
      "better, there's no problem we can't solve - no destiny we cannot\n",
      "\n",
      "We can stop sending our children to schools with corridors of shame and\n",
      "\n",
      "entrepreneurs to free this nation from the tyranny of oil and save our\n",
      "\n",
      "way to scare up votes, because it is not a tactic to win an election, it\n",
      "\n",
      "All of the candidates in this race share these goals. All have good\n",
      "\n",
      "ideas. And all are patriots who serve this country honorably.\n",
      "\n",
      "we can't, generations of Americans have responded with a simple creed\n",
      "\n",
      "of the little girl who goes to a crumbling school in Dillon are the same\n",
      "\n"
     ]
    }
   ],
   "source": [
    "for line in obama: \n",
    "    if(re.findall(r'\\bs\\w*e\\b', line)):\n",
    "        print(line)\n",
    "        "
   ]
  },
  {
   "cell_type": "markdown",
   "metadata": {},
   "source": [
    "4. Naive Bayes Classification\n",
    "- Analyze the names that were wrongly predicted by our Naive Bayes classifier. \n",
    "- Identify at least one more features to extract. \n",
    "- Train the classifier again with your new feature extraction function. \n",
    "- Check whether the accuracy improved.  "
   ]
  },
  {
   "cell_type": "code",
   "execution_count": 5,
   "metadata": {},
   "outputs": [
    {
     "name": "stderr",
     "output_type": "stream",
     "text": [
      "[nltk_data] Downloading package names to /home/nath/nltk_data...\n",
      "[nltk_data]   Package names is already up-to-date!\n"
     ]
    },
    {
     "data": {
      "text/plain": [
       "0.7707201086956522"
      ]
     },
     "execution_count": 5,
     "metadata": {},
     "output_type": "execute_result"
    }
   ],
   "source": [
    "import nltk\n",
    "nltk.download('names')\n",
    "from nltk.corpus import names\n",
    "import random\n",
    "\n",
    "names = ([(name, 'male') for name in names.words('male.txt')] +\n",
    "        [(name, 'female') for name in names.words('female.txt')])\n",
    "\n",
    "random.shuffle(names)\n",
    "train_size = 5000\n",
    "\n",
    "train_names = names[:train_size]\n",
    "test_names = names[train_size:]\n",
    "\n",
    "def g_features2(name):\n",
    "  features = {}\n",
    "  features[\"firstletter\"] = name[0].lower()\n",
    "  features[\"lastletter\"] = name[-1].lower()\n",
    "  for letter in 'abcdefghijklmnopqrstuvwxyz':\n",
    "      features[\"count(%s)\" % letter] = name.lower().count(letter)\n",
    "      features[\"has(%s)\" % letter] = (letter in name.lower())\n",
    "  return features\n",
    "\n",
    "train_set = [(g_features2(n), g) for (n,g) in train_names]\n",
    "test_set = [(g_features2(n), g) for (n,g) in test_names]\n",
    "classifier2 = nltk.NaiveBayesClassifier.train(train_set)\n",
    "nltk.classify.accuracy(classifier2, test_set)"
   ]
  },
  {
   "cell_type": "code",
   "execution_count": 6,
   "metadata": {},
   "outputs": [
    {
     "data": {
      "text/plain": [
       "0.7707201086956522"
      ]
     },
     "execution_count": 6,
     "metadata": {},
     "output_type": "execute_result"
    }
   ],
   "source": [
    "def g_features3(name):\n",
    "  features = {}\n",
    "  if name[-2:] == \"ie\" or name[-1] == \"y\":\n",
    "    features[\"last_ie\"] = True\n",
    "  else:\n",
    "    features[\"last_ie\"] = False\n",
    "  if name[-1] == \"k\":\n",
    "    features[\"last_k\"] = True\n",
    "  else:\n",
    "    features[\"last_k\"] = False\n",
    "\n",
    "  return g_features2(name)\n",
    "\n",
    "train_set = [(g_features3(n), g) for (n,g) in train_names]\n",
    "test_set = [(g_features3(n), g) for (n,g) in test_names]\n",
    "classifier3 = nltk.NaiveBayesClassifier.train(train_set)\n",
    "nltk.classify.accuracy(classifier3, test_set)"
   ]
  },
  {
   "cell_type": "code",
   "execution_count": null,
   "metadata": {},
   "outputs": [],
   "source": []
  }
 ],
 "metadata": {
  "kernelspec": {
   "display_name": "Python 3 (ipykernel)",
   "language": "python",
   "name": "python3"
  },
  "language_info": {
   "codemirror_mode": {
    "name": "ipython",
    "version": 3
   },
   "file_extension": ".py",
   "mimetype": "text/x-python",
   "name": "python",
   "nbconvert_exporter": "python",
   "pygments_lexer": "ipython3",
   "version": "3.9.19"
  }
 },
 "nbformat": 4,
 "nbformat_minor": 4
}
