{
 "cells": [
  {
   "cell_type": "markdown",
   "metadata": {},
   "source": [
    "# Lab: Data Types, Loops, and Functions"
   ]
  },
  {
   "cell_type": "markdown",
   "metadata": {},
   "source": [
    "**Instructions**: \n",
    "\n",
    "Complete the following functions with your code\n",
    "- You can find information on how to convert numbers to a different base here:\n",
    "    - https://www.tutorialspoint.com/computer_logical_organization/number_system_conversion.htm\n",
    "- You can find information on how to convert numbers to roman numerals here:\n",
    "    - https://www.romannumerals.org/converter"
   ]
  },
  {
   "cell_type": "markdown",
   "metadata": {},
   "source": [
    "1. Convert positive integer to base 2"
   ]
  },
  {
   "cell_type": "code",
   "execution_count": null,
   "metadata": {},
   "outputs": [],
   "source": [
    "def binarify(num): \n",
    "    if num <= 0: \n",
    "        return '0'\n",
    "    digits = []\n",
    "\n",
    "    while(num > 0):\n",
    "        result = num // 2\n",
    "        remainder = num % 2\n",
    "        num = result\n",
    "        digits.append(str(remainder))\n",
    "\n",
    "    digits.reverse()\n",
    "    \n",
    "    return ''.join(digits)\n",
    "\n",
    "num = 29\n",
    "result = binarify(num)\n",
    "result"
   ]
  },
  {
   "cell_type": "markdown",
   "metadata": {},
   "source": [
    "2. Convert positive integer to a string in any base"
   ]
  },
  {
   "cell_type": "code",
   "execution_count": null,
   "metadata": {},
   "outputs": [],
   "source": [
    "def int_to_base(num, base):\n",
    "    if num <= 0:  \n",
    "        return '0' \n",
    "    digits = []\n",
    "\n",
    "    while(num > 0):\n",
    "        result = num // base\n",
    "        remainder = num % base\n",
    "        num = result\n",
    "        digits.append(str(remainder))\n",
    "\n",
    "    digits.reverse()\n",
    "    \n",
    "    return ''.join(digits)\n",
    "\n",
    "num = 29\n",
    "result = int_to_base(num, 3)\n",
    "result"
   ]
  },
  {
   "cell_type": "markdown",
   "metadata": {},
   "source": [
    " 3. Take a string-formatted number and its base and return the base-10 integer"
   ]
  },
  {
   "cell_type": "code",
   "execution_count": 10,
   "metadata": {},
   "outputs": [
    {
     "name": "stdout",
     "output_type": "stream",
     "text": [
      "29\n"
     ]
    }
   ],
   "source": [
    "def base_to_int(string, base):\n",
    "    if string == \"0\" or base <= 0 : \n",
    "        return 0 \n",
    "    result = 0 \n",
    "\n",
    "    idx = 0\n",
    "    power = len(string) - 1\n",
    "\n",
    "    while(idx < len(string)):\n",
    "        result = result + (int(string[idx]) * base ** power)\n",
    "        power = power - 1\n",
    "        idx = idx + 1\n",
    "    \n",
    "    return result \n",
    "\n",
    "binary_num = '11101'\n",
    "base = 2\n",
    "result = base_to_int(binary_num, 2)\n",
    "result"
   ]
  },
  {
   "cell_type": "markdown",
   "metadata": {},
   "source": [
    "4. Add two numbers of different bases and return the sum"
   ]
  },
  {
   "cell_type": "code",
   "execution_count": 11,
   "metadata": {},
   "outputs": [
    {
     "data": {
      "text/plain": [
       "58"
      ]
     },
     "execution_count": 11,
     "metadata": {},
     "output_type": "execute_result"
    }
   ],
   "source": [
    "def flexibase_add(str1, str2, base1, base2):\n",
    "    return base_to_int(str1, base1) + base_to_int(str2, base2)\n",
    "\n",
    "flexibase_add('11101','1002',2,3)"
   ]
  },
  {
   "cell_type": "markdown",
   "metadata": {},
   "source": [
    "5. Multiply two numbers of different bases and return the product"
   ]
  },
  {
   "cell_type": "code",
   "execution_count": 12,
   "metadata": {},
   "outputs": [
    {
     "data": {
      "text/plain": [
       "841"
      ]
     },
     "execution_count": 12,
     "metadata": {},
     "output_type": "execute_result"
    }
   ],
   "source": [
    " def flexibase_multiply(str1, str2, base1, base2):\n",
    "    return base_to_int(str1, base1) * base_to_int(str2, base2)\n",
    "\n",
    "flexibase_multiply('11101','1002',2,3)"
   ]
  },
  {
   "cell_type": "markdown",
   "metadata": {},
   "source": [
    "6. Given an integer, return the Roman numeral version"
   ]
  },
  {
   "cell_type": "code",
   "execution_count": 13,
   "metadata": {},
   "outputs": [
    {
     "data": {
      "text/plain": [
       "'CMXCIX'"
      ]
     },
     "execution_count": 13,
     "metadata": {},
     "output_type": "execute_result"
    }
   ],
   "source": [
    "# Hint: Please use a dictionary in your solution. \n",
    "roman_numerals = {1 : \"I\",\n",
    "                  4 : \"IV\",\n",
    "                  5 : \"V\",\n",
    "                  9 : \"IX\",\n",
    "                  10 : \"X\",\n",
    "                  50 : \"L\",\n",
    "                  90 : \"XC\",\n",
    "                  100 : \"C\",\n",
    "                  400 : \"CD\",\n",
    "                  500 : \"D\",\n",
    "                  900 : \"CM\",\n",
    "                  1000 : \"M\",\n",
    "}\n",
    "\n",
    "def romanify(num):\n",
    "    values = [1000,900,500,400,100,90,50,10,9,5,4,1] #list(roman_numerals.keys()).reverse()\n",
    "    for value in values:\n",
    "        if(num >= value):\n",
    "            return roman_numerals[value] + romanify(num - value)\n",
    "    return ''\n",
    "\n",
    "romanify(999)"
   ]
  },
  {
   "cell_type": "code",
   "execution_count": 6,
   "metadata": {},
   "outputs": [],
   "source": [
    "# Copyright (c) 2014 Matt Dickenson\n",
    "# \n",
    "# Permission is hereby granted, free of charge, to any person obtaining a copy\n",
    "# of this software and associated documentation files (the \"Software\"), to deal\n",
    "# in the Software without restriction, including without limitation the rights\n",
    "# to use, copy, modify, merge, publish, distribute, sublicense, and/or sell\n",
    "# copies of the Software, and to permit persons to whom the Software is\n",
    "# furnished to do so, subject to the following conditions:\n",
    "# \n",
    "# The above copyright notice and this permission notice shall be included in all\n",
    "# copies or substantial portions of the Software.\n",
    "# \n",
    "# THE SOFTWARE IS PROVIDED \"AS IS\", WITHOUT WARRANTY OF ANY KIND, EXPRESS OR\n",
    "# IMPLIED, INCLUDING BUT NOT LIMITED TO THE WARRANTIES OF MERCHANTABILITY,\n",
    "# FITNESS FOR A PARTICULAR PURPOSE AND NONINFRINGEMENT. IN NO EVENT SHALL THE\n",
    "# AUTHORS OR COPYRIGHT HOLDERS BE LIABLE FOR ANY CLAIM, DAMAGES OR OTHER\n",
    "# LIABILITY, WHETHER IN AN ACTION OF CONTRACT, TORT OR OTHERWISE, ARISING FROM,\n",
    "# OUT OF OR IN CONNECTION WITH THE SOFTWARE OR THE USE OR OTHER DEALINGS IN THE\n",
    "# SOFTWARE."
   ]
  },
  {
   "cell_type": "code",
   "execution_count": null,
   "metadata": {},
   "outputs": [],
   "source": []
  }
 ],
 "metadata": {
  "kernelspec": {
   "display_name": "Python 3 (ipykernel)",
   "language": "python",
   "name": "python3"
  },
  "language_info": {
   "codemirror_mode": {
    "name": "ipython",
    "version": 3
   },
   "file_extension": ".py",
   "mimetype": "text/x-python",
   "name": "python",
   "nbconvert_exporter": "python",
   "pygments_lexer": "ipython3",
   "version": "3.9.19"
  }
 },
 "nbformat": 4,
 "nbformat_minor": 4
}
