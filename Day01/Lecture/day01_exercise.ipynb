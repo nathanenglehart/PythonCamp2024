{
 "cells": [
  {
   "cell_type": "markdown",
   "metadata": {},
   "source": [
    "#  Exercise: Data Types, Loops, and Functions"
   ]
  },
  {
   "cell_type": "markdown",
   "metadata": {},
   "source": [
    "1. Write a `for` loop, `white` loop, or a `function` (or all three!) to create a list of the first 10 numbers of the Fibonacci sequence.\n"
   ]
  },
  {
   "cell_type": "markdown",
   "metadata": {},
   "source": [
    "- The Fibonacci sequence is defined as a sequence in which each term is the sum of the two previous terms:"
   ]
  },
  {
   "cell_type": "markdown",
   "metadata": {},
   "source": [
    "$$x_{i} = x_{i-1} + x_{i-2},$$ \n",
    "$$\\text{where} x_1 = 1, x_2 = 1$$"
   ]
  },
  {
   "cell_type": "code",
   "execution_count": 1,
   "metadata": {},
   "outputs": [
    {
     "name": "stdout",
     "output_type": "stream",
     "text": [
      "Fib(10) =  55\n"
     ]
    }
   ],
   "source": [
    "def fib(n):\n",
    "    if(n == 0): return 0\n",
    "    if(n == 1): return 1\n",
    "    return fib(n-1) + fib(n-2)\n",
    "\n",
    "n = 10\n",
    "print(\"Fib(\" + str(n) + \") = \", fib(n))"
   ]
  },
  {
   "cell_type": "markdown",
   "metadata": {},
   "source": [
    "2. Can you now do it for the first 30 numbers? "
   ]
  },
  {
   "cell_type": "code",
   "execution_count": 2,
   "metadata": {},
   "outputs": [
    {
     "name": "stdout",
     "output_type": "stream",
     "text": [
      "Fib(0) = 0\n",
      "Fib(1) = 1\n",
      "Fib(2) = 1\n",
      "Fib(3) = 2\n",
      "Fib(4) = 3\n",
      "Fib(5) = 5\n",
      "Fib(6) = 8\n",
      "Fib(7) = 13\n",
      "Fib(8) = 21\n",
      "Fib(9) = 34\n",
      "Fib(10) = 55\n",
      "Fib(11) = 89\n",
      "Fib(12) = 144\n",
      "Fib(13) = 233\n",
      "Fib(14) = 377\n",
      "Fib(15) = 610\n",
      "Fib(16) = 987\n",
      "Fib(17) = 1597\n",
      "Fib(18) = 2584\n",
      "Fib(19) = 4181\n",
      "Fib(20) = 6765\n",
      "Fib(21) = 10946\n",
      "Fib(22) = 17711\n",
      "Fib(23) = 28657\n",
      "Fib(24) = 46368\n",
      "Fib(25) = 75025\n",
      "Fib(26) = 121393\n",
      "Fib(27) = 196418\n",
      "Fib(28) = 317811\n",
      "Fib(29) = 514229\n"
     ]
    }
   ],
   "source": [
    "for i in range(0,30):\n",
    "    print(\"Fib(\" + str(i) + \") = \" + str(fib(i)))"
   ]
  },
  {
   "cell_type": "markdown",
   "metadata": {},
   "source": [
    "3. Complete the functions below using your solutions "
   ]
  },
  {
   "cell_type": "code",
   "execution_count": 4,
   "metadata": {},
   "outputs": [
    {
     "name": "stdout",
     "output_type": "stream",
     "text": [
      "True\n",
      "False\n"
     ]
    }
   ],
   "source": [
    "# return true if there is no e in 'word', else false\n",
    "def has_no_e(word):\n",
    "    return \"e\" not in word\n",
    "\n",
    "print(has_no_e(\"nathan\"))\n",
    "print(has_no_e(\"james\"))"
   ]
  },
  {
   "cell_type": "code",
   "execution_count": 5,
   "metadata": {},
   "outputs": [
    {
     "name": "stdout",
     "output_type": "stream",
     "text": [
      "True\n",
      "False\n"
     ]
    }
   ],
   "source": [
    "# return true if there is e in 'word', else false\n",
    "def has_e(word):\n",
    "    return not has_no_e(word)\n",
    "\n",
    "print(has_e(\"facetious\"))\n",
    "print(has_e(\"bombastic\"))"
   ]
  },
  {
   "cell_type": "code",
   "execution_count": 6,
   "metadata": {},
   "outputs": [
    {
     "name": "stdout",
     "output_type": "stream",
     "text": [
      "True\n",
      "False\n"
     ]
    }
   ],
   "source": [
    "# return true if word1 contains only letters from word2, else false\n",
    "def uses_only(word1, word2):\n",
    "    return all([letter in word2 for letter in word1])\n",
    "\n",
    "print(uses_only(\"hi\",\"phlegmatic\"))\n",
    "print(uses_only(\"nathan\",\"bortwood\"))"
   ]
  },
  {
   "cell_type": "code",
   "execution_count": 7,
   "metadata": {},
   "outputs": [
    {
     "name": "stdout",
     "output_type": "stream",
     "text": [
      "True\n",
      "False\n"
     ]
    }
   ],
   "source": [
    "# return true if word1 uses all the letters in word2, else false\n",
    "def uses_all(word1, word2):\n",
    "    return all([letter in word1 for letter in word2])\n",
    "\n",
    "print(uses_all(\"aggrandize\",\"anger\"))\n",
    "print(uses_all(\"immutable\",\"tacit\"))"
   ]
  },
  {
   "cell_type": "code",
   "execution_count": 8,
   "metadata": {},
   "outputs": [
    {
     "name": "stdout",
     "output_type": "stream",
     "text": [
      "True\n",
      "False\n"
     ]
    }
   ],
   "source": [
    "# return true or false \n",
    "# Is the word in alphabetical order? return True if yes, False if not. \n",
    "# Hint: check the methods for lists\n",
    "def is_abecedarian(word):\n",
    "    return sorted(word) == [letter for letter in word]\n",
    "\n",
    "print(is_abecedarian(\"abcdefg\"))\n",
    "print(is_abecedarian(\"abcdefga\"))"
   ]
  },
  {
   "cell_type": "code",
   "execution_count": null,
   "metadata": {},
   "outputs": [],
   "source": []
  }
 ],
 "metadata": {
  "kernelspec": {
   "display_name": "Python 3 (ipykernel)",
   "language": "python",
   "name": "python3"
  },
  "language_info": {
   "codemirror_mode": {
    "name": "ipython",
    "version": 3
   },
   "file_extension": ".py",
   "mimetype": "text/x-python",
   "name": "python",
   "nbconvert_exporter": "python",
   "pygments_lexer": "ipython3",
   "version": "3.9.19"
  }
 },
 "nbformat": 4,
 "nbformat_minor": 4
}
